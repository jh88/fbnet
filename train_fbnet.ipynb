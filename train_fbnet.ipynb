{
 "cells": [
  {
   "cell_type": "code",
   "execution_count": null,
   "metadata": {
    "colab": {},
    "colab_type": "code",
    "id": "UiY-P8RgJdt1"
   },
   "outputs": [],
   "source": [
    "import tensorflow as tf\n",
    "from tqdm import tqdm_notebook as tqdm\n",
    "from tensorflow.keras import Sequential\n",
    "from tensorflow.keras.losses import SparseCategoricalCrossentropy"
   ]
  },
  {
   "cell_type": "code",
   "execution_count": null,
   "metadata": {
    "colab": {},
    "colab_type": "code",
    "id": "CcEWSru_I5Z0"
   },
   "outputs": [],
   "source": [
    "from fbnet.blocks import get_super_net, Block\n",
    "from fbnet.model import FBNet, Trainer\n",
    "from fbnet.lookup_table import read as read_lookup_table, get_lookup_table"
   ]
  },
  {
   "cell_type": "code",
   "execution_count": null,
   "metadata": {
    "colab": {},
    "colab_type": "code",
    "id": "kyMLctWFI7N-"
   },
   "outputs": [],
   "source": []
  },
  {
   "cell_type": "code",
   "execution_count": null,
   "metadata": {
    "colab": {},
    "colab_type": "code",
    "id": "wHcO9sa3Jn5d"
   },
   "outputs": [],
   "source": []
  },
  {
   "cell_type": "code",
   "execution_count": null,
   "metadata": {
    "colab": {
     "base_uri": "https://localhost:8080/",
     "height": 51
    },
    "colab_type": "code",
    "id": "22Y-IKbTJoEA",
    "outputId": "dc3616d1-ba7e-46e7-fac3-c4d0a56ae64b"
   },
   "outputs": [],
   "source": [
    "cifar10 = tf.keras.datasets.cifar10\n",
    "(train_images, train_labels), (test_images, test_labels) = cifar10.load_data()"
   ]
  },
  {
   "cell_type": "code",
   "execution_count": null,
   "metadata": {
    "colab": {
     "base_uri": "https://localhost:8080/",
     "height": 34
    },
    "colab_type": "code",
    "id": "nQVfoomxKN-U",
    "outputId": "fc7c118d-b9a5-4576-e385-7f7141aaf51c"
   },
   "outputs": [],
   "source": [
    "x_train = train_images.astype('float32') / 255.0\n",
    "x_test = test_images.astype('float32') / 255.0\n",
    "\n",
    "split_at = int(x_train.shape[0] * 0.8)\n",
    "split_at"
   ]
  },
  {
   "cell_type": "code",
   "execution_count": null,
   "metadata": {
    "colab": {},
    "colab_type": "code",
    "id": "BmbkUdJZKQx3"
   },
   "outputs": [],
   "source": []
  },
  {
   "cell_type": "code",
   "execution_count": null,
   "metadata": {
    "colab": {
     "base_uri": "https://localhost:8080/",
     "height": 34
    },
    "colab_type": "code",
    "id": "MGQ7fKhkKSdR",
    "outputId": "e6252753-d413-401d-f149-c7f2edab6f80"
   },
   "outputs": [],
   "source": [
    "train_weights_dataset = tf.data.Dataset.from_tensor_slices((x_train[:split_at], train_labels[:split_at]))\n",
    "train_weights_dataset = train_weights_dataset.shuffle(buffer_size=1024).batch(128)\n",
    "train_weights_dataset"
   ]
  },
  {
   "cell_type": "code",
   "execution_count": null,
   "metadata": {
    "colab": {
     "base_uri": "https://localhost:8080/",
     "height": 34
    },
    "colab_type": "code",
    "id": "ek3rzoRVKSsj",
    "outputId": "e308bac6-4b8b-444c-d3e2-7325147762b1"
   },
   "outputs": [],
   "source": [
    "train_thetas_dataset = tf.data.Dataset.from_tensor_slices((x_train[split_at:], train_labels[split_at:]))\n",
    "train_thetas_dataset = train_thetas_dataset.shuffle(buffer_size=1024).batch(128)\n",
    "train_thetas_dataset"
   ]
  },
  {
   "cell_type": "code",
   "execution_count": null,
   "metadata": {
    "colab": {
     "base_uri": "https://localhost:8080/",
     "height": 34
    },
    "colab_type": "code",
    "id": "F1dAdKAeKS-0",
    "outputId": "7b4d69db-d5d7-4ed6-d802-2b22aa53b9ea"
   },
   "outputs": [],
   "source": [
    "test_dataset = tf.data.Dataset.from_tensor_slices((x_test, test_labels)).batch(128)\n",
    "test_dataset"
   ]
  },
  {
   "cell_type": "code",
   "execution_count": null,
   "metadata": {
    "colab": {
     "base_uri": "https://localhost:8080/",
     "height": 34
    },
    "colab_type": "code",
    "id": "lUcqmhOjKXNB",
    "outputId": "6f87835c-bc21-4913-a054-54c0b0e317f7"
   },
   "outputs": [],
   "source": [
    "train_dataset = tf.data.Dataset.from_tensor_slices((x_train, train_labels))\n",
    "train_dataset = train_dataset.shuffle(buffer_size=1024).batch(128)\n",
    "train_dataset"
   ]
  },
  {
   "cell_type": "code",
   "execution_count": null,
   "metadata": {
    "colab": {},
    "colab_type": "code",
    "id": "GUL4i0mkv9mk"
   },
   "outputs": [],
   "source": []
  },
  {
   "cell_type": "code",
   "execution_count": null,
   "metadata": {
    "colab": {},
    "colab_type": "code",
    "id": "pE8G_HPOtGe0"
   },
   "outputs": [],
   "source": []
  },
  {
   "cell_type": "code",
   "execution_count": null,
   "metadata": {
    "colab": {},
    "colab_type": "code",
    "id": "do963pWCKnmS"
   },
   "outputs": [],
   "source": [
    "super_net = get_super_net(\n",
    "    num_classes=10,\n",
    "    bn=True,\n",
    "    config={'ss': [1,1,2,2,1,1,1,1,1]}\n",
    ")"
   ]
  },
  {
   "cell_type": "code",
   "execution_count": null,
   "metadata": {
    "colab": {},
    "colab_type": "code",
    "id": "Oh-MPsq0KoUM"
   },
   "outputs": [],
   "source": [
    "lookup_table = read_lookup_table('lookup_table_pi.json') "
   ]
  },
  {
   "cell_type": "code",
   "execution_count": null,
   "metadata": {
    "colab": {
     "base_uri": "https://localhost:8080/",
     "height": 34
    },
    "colab_type": "code",
    "id": "GdDUp9rGiEJw",
    "outputId": "cd3fb817-950b-46ab-c7fd-be48e43e80c4"
   },
   "outputs": [],
   "source": [
    "# lookup_table = get_lookup_table(super_net)"
   ]
  },
  {
   "cell_type": "code",
   "execution_count": null,
   "metadata": {
    "colab": {},
    "colab_type": "code",
    "id": "tz2xlam5KqZb"
   },
   "outputs": [],
   "source": [
    "fbnet = FBNet(super_net, lookup_table)"
   ]
  },
  {
   "cell_type": "code",
   "execution_count": null,
   "metadata": {
    "colab": {},
    "colab_type": "code",
    "id": "JJMZcbl4pKm1"
   },
   "outputs": [],
   "source": []
  },
  {
   "cell_type": "code",
   "execution_count": null,
   "metadata": {
    "colab": {},
    "colab_type": "code",
    "id": "n4FgGkEzKuQP"
   },
   "outputs": [],
   "source": [
    "trainer = Trainer(\n",
    "    fbnet,\n",
    "    input_shape=(None, 32, 32, 3),\n",
    "    initial_temperature=5,\n",
    "    temperature_decay_rate=0.956,\n",
    "    temperature_decay_steps=1,\n",
    "    latency_alpha=0.2,\n",
    "    latency_beta=0.6,\n",
    "    weight_lr=0.01,\n",
    "    weight_momentum=0.9,\n",
    "    weight_decay=1e-4,\n",
    "    theta_lr=1e-3,\n",
    "    theta_beta1 = 0.9,\n",
    "    theta_beta2 = 0.999,\n",
    "    theta_decay=5e-4\n",
    ")"
   ]
  },
  {
   "cell_type": "code",
   "execution_count": null,
   "metadata": {
    "colab": {},
    "colab_type": "code",
    "id": "QoAmdN0gK0vb"
   },
   "outputs": [],
   "source": []
  },
  {
   "cell_type": "code",
   "execution_count": null,
   "metadata": {
    "colab": {
     "base_uri": "https://localhost:8080/",
     "height": 442
    },
    "colab_type": "code",
    "id": "rvTSQifUK2Gn",
    "outputId": "b700f4a2-a715-473f-e523-1471d8de3511"
   },
   "outputs": [],
   "source": [
    "for epoch in tqdm(range(trainer.epoch, 90)):\n",
    "    print('Start of epoch %d' % (epoch,))\n",
    "\n",
    "    for step, (x_batch, y_batch) in tqdm(enumerate(train_weights_dataset, start=1)):\n",
    "        trainer.train_weights(x_batch, y_batch)\n",
    "        if step % 100 == 0:\n",
    "            print(\n",
    "                'training weights step {}: accuracy = {}, mean loss = {}'\n",
    "                .format(step, trainer.training_accuracy, trainer.training_loss)\n",
    "            )\n",
    "    print(\n",
    "        'training weights step {}: accuracy = {}, mean loss = {}'\n",
    "        .format(step, trainer.training_accuracy, trainer.training_loss)\n",
    "    )\n",
    "    trainer.reset_metrics()\n",
    "\n",
    "    test_accuracy = trainer.evaluate(tqdm(test_dataset))\n",
    "    print('test accuracy: {}'.format(test_accuracy))\n",
    "\n",
    "    if trainer.epoch >= 10:\n",
    "        for step, (x_batch, y_batch) in tqdm(enumerate(train_thetas_dataset, start=1)):\n",
    "            trainer.train_thetas(x_batch, y_batch)\n",
    "            if step % 100 == 0:\n",
    "                print(\n",
    "                    'training thetas step {}: accuracy = {}, mean loss = {}'\n",
    "                    .format(step, trainer.training_accuracy, trainer.training_loss)\n",
    "                )\n",
    "        print(\n",
    "            'training thetas step {}: accuracy = {}, mean loss = {}'\n",
    "            .format(step, trainer.training_accuracy, trainer.training_loss)\n",
    "        )\n",
    "        trainer.reset_metrics()\n",
    "\n",
    "        test_accuracy = trainer.evaluate(tqdm(test_dataset))\n",
    "        print('test accuracy: {}'.format(test_accuracy))\n",
    "\n",
    "    trainer.epoch += 1\n",
    "    if trainer.epoch % 10 == 0:\n",
    "        trainer.save_weights(\n",
    "            'drive/My Drive/fbnet/checkpoints/checkpoints_epoch_{}_accuracy_{:.4f}'\n",
    "            .format(trainer.epoch, test_accuracy)\n",
    "        )"
   ]
  },
  {
   "cell_type": "code",
   "execution_count": null,
   "metadata": {
    "colab": {},
    "colab_type": "code",
    "id": "xIbc8HVKu8Hf"
   },
   "outputs": [],
   "source": []
  },
  {
   "cell_type": "code",
   "execution_count": null,
   "metadata": {
    "colab": {},
    "colab_type": "code",
    "id": "15M5HE5JJJU7"
   },
   "outputs": [],
   "source": [
    "# save checkpoints\n",
    "# trainer.save_weights('PATH')"
   ]
  },
  {
   "cell_type": "code",
   "execution_count": null,
   "metadata": {
    "colab": {},
    "colab_type": "code",
    "id": "wkg48DH9xD5Z"
   },
   "outputs": [],
   "source": []
  },
  {
   "cell_type": "code",
   "execution_count": null,
   "metadata": {
    "colab": {},
    "colab_type": "code",
    "id": "gglYbwSiLCS7"
   },
   "outputs": [],
   "source": []
  },
  {
   "cell_type": "code",
   "execution_count": null,
   "metadata": {
    "colab": {
     "base_uri": "https://localhost:8080/",
     "height": 34
    },
    "colab_type": "code",
    "id": "Brjb4OlJu8Wi",
    "outputId": "6e393c33-b84e-4a40-b9da-9edec5c0c557"
   },
   "outputs": [],
   "source": [
    "# print the current temperature\n",
    "trainer.temperature"
   ]
  },
  {
   "cell_type": "code",
   "execution_count": null,
   "metadata": {
    "colab": {},
    "colab_type": "code",
    "id": "snEC4CGXQ12p"
   },
   "outputs": [],
   "source": [
    "# inspect thetas\n",
    "for weight in trainer.fbnet.weights:\n",
    "    if 'theta' in weight.name:\n",
    "        print(weight)"
   ]
  },
  {
   "cell_type": "code",
   "execution_count": null,
   "metadata": {
    "colab": {},
    "colab_type": "code",
    "id": "vg0ZPxUpQ2B5"
   },
   "outputs": [],
   "source": []
  },
  {
   "cell_type": "code",
   "execution_count": null,
   "metadata": {
    "colab": {},
    "colab_type": "code",
    "id": "7wdNVkIqnVTV"
   },
   "outputs": [],
   "source": [
    "# sample a fbnet\n",
    "seq_config = trainer.sample_sequential_config()\n",
    "sampled_fbnet = Sequential.from_config(seq_config, custom_objects={'Block': Block})"
   ]
  },
  {
   "cell_type": "code",
   "execution_count": null,
   "metadata": {},
   "outputs": [],
   "source": []
  },
  {
   "cell_type": "code",
   "execution_count": null,
   "metadata": {
    "colab": {},
    "colab_type": "code",
    "id": "eRF6pJP0QoHm"
   },
   "outputs": [],
   "source": [
    "# inspect the layers in the sampled fbnet\n",
    "for layer in sampled_fbnet.layers:\n",
    "    print(layer.name)"
   ]
  },
  {
   "cell_type": "code",
   "execution_count": null,
   "metadata": {
    "colab": {},
    "colab_type": "code",
    "id": "ix2rsDTZHh0l"
   },
   "outputs": [],
   "source": []
  },
  {
   "cell_type": "code",
   "execution_count": null,
   "metadata": {
    "colab": {},
    "colab_type": "code",
    "id": "9aD0tG79we3l"
   },
   "outputs": [],
   "source": [
    "sampled_fbnet.compile(\n",
    "    optimizer='adam',\n",
    "    loss=SparseCategoricalCrossentropy(from_logits=True),\n",
    "    metrics=['accuracy']\n",
    ")"
   ]
  },
  {
   "cell_type": "code",
   "execution_count": null,
   "metadata": {
    "colab": {},
    "colab_type": "code",
    "id": "EFOAeP_CwfRO"
   },
   "outputs": [],
   "source": [
    "history = sampled_fbnet.fit(train_dataset, epochs=30, validation_data=test_dataset)"
   ]
  },
  {
   "cell_type": "code",
   "execution_count": null,
   "metadata": {
    "colab": {},
    "colab_type": "code",
    "id": "ZupIDe-85CLM"
   },
   "outputs": [],
   "source": []
  },
  {
   "cell_type": "code",
   "execution_count": null,
   "metadata": {
    "colab": {},
    "colab_type": "code",
    "id": "6x4NlP8ySYdx"
   },
   "outputs": [],
   "source": [
    "converter = tf.lite.TFLiteConverter.from_keras_model(sampled_fbnet)"
   ]
  },
  {
   "cell_type": "code",
   "execution_count": null,
   "metadata": {
    "colab": {},
    "colab_type": "code",
    "id": "syhKOhwDSYo0"
   },
   "outputs": [],
   "source": [
    "tflite_model = converter.convert()"
   ]
  },
  {
   "cell_type": "code",
   "execution_count": null,
   "metadata": {
    "colab": {
     "base_uri": "https://localhost:8080/",
     "height": 34
    },
    "colab_type": "code",
    "id": "clkwDInUlnCu",
    "outputId": "2196b4c7-9578-4ee7-fea5-32a532ee7f7a"
   },
   "outputs": [],
   "source": [
    "open('data/fbnet.tflite', 'wb').write(tflite_model)"
   ]
  },
  {
   "cell_type": "code",
   "execution_count": null,
   "metadata": {
    "colab": {},
    "colab_type": "code",
    "id": "Gqw1093QlnLr"
   },
   "outputs": [],
   "source": []
  },
  {
   "cell_type": "code",
   "execution_count": null,
   "metadata": {
    "colab": {},
    "colab_type": "code",
    "id": "7p8pVMo8lnVI"
   },
   "outputs": [],
   "source": [
    "interpreter = tf.lite.Interpreter(model_content=tflite_model)\n",
    "# interpreter = tf.lite.Interpreter(model_path='data/fbnet.tflite')"
   ]
  },
  {
   "cell_type": "code",
   "execution_count": null,
   "metadata": {
    "colab": {},
    "colab_type": "code",
    "id": "Cqg0l8VSpfsu"
   },
   "outputs": [],
   "source": [
    "interpreter.allocate_tensors()"
   ]
  },
  {
   "cell_type": "code",
   "execution_count": null,
   "metadata": {
    "colab": {},
    "colab_type": "code",
    "id": "NQLVzy3lKCJi"
   },
   "outputs": [],
   "source": []
  },
  {
   "cell_type": "code",
   "execution_count": null,
   "metadata": {
    "colab": {},
    "colab_type": "code",
    "id": "_FSutxlpKCbd"
   },
   "outputs": [],
   "source": [
    "input_details = interpreter.get_input_details()\n",
    "output_details = interpreter.get_output_details()"
   ]
  },
  {
   "cell_type": "code",
   "execution_count": null,
   "metadata": {
    "colab": {},
    "colab_type": "code",
    "id": "wpdXGBDvKTqz"
   },
   "outputs": [],
   "source": [
    "interpreter.set_tensor(input_details[0]['index'], x_train[0:1])\n",
    "interpreter.invoke()\n",
    "output_data = interpreter.get_tensor(output_details[0]['index'])"
   ]
  },
  {
   "cell_type": "code",
   "execution_count": null,
   "metadata": {},
   "outputs": [],
   "source": [
    "output_data"
   ]
  },
  {
   "cell_type": "code",
   "execution_count": null,
   "metadata": {},
   "outputs": [],
   "source": [
    "sampled_fbnet.predict(x_train[0:1])"
   ]
  },
  {
   "cell_type": "code",
   "execution_count": null,
   "metadata": {},
   "outputs": [],
   "source": []
  },
  {
   "cell_type": "code",
   "execution_count": null,
   "metadata": {
    "colab": {},
    "colab_type": "code",
    "id": "HDYlt7mkKvIA"
   },
   "outputs": [],
   "source": [
    "train_labels[0:1]"
   ]
  },
  {
   "cell_type": "code",
   "execution_count": null,
   "metadata": {},
   "outputs": [],
   "source": []
  }
 ],
 "metadata": {
  "accelerator": "GPU",
  "colab": {
   "name": "fbnet.ipynb",
   "provenance": []
  },
  "kernelspec": {
   "display_name": "Python 3",
   "language": "python",
   "name": "python3"
  },
  "language_info": {
   "codemirror_mode": {
    "name": "ipython",
    "version": 3
   },
   "file_extension": ".py",
   "mimetype": "text/x-python",
   "name": "python",
   "nbconvert_exporter": "python",
   "pygments_lexer": "ipython3",
   "version": "3.7.4"
  }
 },
 "nbformat": 4,
 "nbformat_minor": 1
}
